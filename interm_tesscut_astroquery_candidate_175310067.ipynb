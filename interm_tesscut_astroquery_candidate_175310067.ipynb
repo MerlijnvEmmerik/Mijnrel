{
  "nbformat": 4,
  "nbformat_minor": 0,
  "metadata": {
    "kernelspec": {
      "display_name": "Python 3",
      "language": "python",
      "name": "python3"
    },
    "language_info": {
      "codemirror_mode": {
        "name": "ipython",
        "version": 3
      },
      "file_extension": ".py",
      "mimetype": "text/x-python",
      "name": "python",
      "nbconvert_exporter": "python",
      "pygments_lexer": "ipython3",
      "version": "3.6.1"
    },
    "colab": {
      "name": "interm_tesscut_astroquery_candidate_175310067.ipynb",
      "provenance": [],
      "include_colab_link": true
    }
  },
  "cells": [
    {
      "cell_type": "markdown",
      "metadata": {
        "id": "view-in-github",
        "colab_type": "text"
      },
      "source": [
        "<a href=\"https://colab.research.google.com/github/MerlijnvEmmerik/Mijnrel/blob/master/interm_tesscut_astroquery_candidate_175310067.ipynb\" target=\"_parent\"><img src=\"https://colab.research.google.com/assets/colab-badge.svg\" alt=\"Open In Colab\"/></a>"
      ]
    },
    {
      "cell_type": "markdown",
      "metadata": {
        "id": "S3C5_zR2fDOn",
        "colab_type": "text"
      },
      "source": [
        "<a id=\"title_ID\"></a>\n",
        "# Beginner: Cutout of the TESS FFIs using Astrocut and Astroquery\n",
        "\n",
        "This notebook shows the user how to use the MAST programmatic interface to create a cutout of the small section of the TESS FFIs. For this example we will determine the RA and Dec for TIC 261105201. We then perform a query to determine which sectors contain this RA and Dec, peform a cutout of the FFI time series, open the resulting target pixel files, and plot the first image of each file with the WCS overlayed on the image. Finally we will create a light curve from the resulting image by creating a photometric aperture and summing the light in our pixels.  \n",
        "\n",
        "This tutorial shows the users how to do the following: use `astroquery.catalogs` to query the TIC, use astroquery Tesscut to determine the number of sectors that contain our target and download a FFI cutout.\n",
        "\n",
        "\n",
        "### Table of Contents \n",
        "  [Astroquery Search of the TIC](#catalog_ID) <br> \n",
        "  [Tesscut to Perform FFI Cutout](#tesscut_ID) <br>\n",
        "  [Create Light Curve](#lightcurve) <br>\n",
        "  [Additional Resources](#resources_ID) <br> \n",
        "  [About this Notebook](#about_ID) "
      ]
    },
    {
      "cell_type": "markdown",
      "metadata": {
        "id": "A1ni79m2fDOt",
        "colab_type": "text"
      },
      "source": [
        "***"
      ]
    },
    {
      "cell_type": "markdown",
      "metadata": {
        "id": "HH7XgNZgfDOx",
        "colab_type": "text"
      },
      "source": [
        "## Import Statements\n",
        "<a id=\"imports_ID\"></a>\n",
        "\n",
        "We start with a few import statements.\n",
        "- *numpy* to handle array functions\n",
        "- *astropy.io fits* for accessing FITS files\n",
        "- *astropy.wcs WCS* to interpret the World Coordinate Systems\n",
        "- *matplotlib.pyplot* for plotting the data\n",
        "- *astroquery.mast* for the catalogs and for tesscut.\n"
      ]
    },
    {
      "cell_type": "code",
      "metadata": {
        "id": "5fwCaEiXfDO2",
        "colab_type": "code",
        "colab": {
          "base_uri": "https://localhost:8080/",
          "height": 401
        },
        "outputId": "44707e6d-a93a-4e52-db4c-b441a5de0bcd"
      },
      "source": [
        "!pip install astroquery\n",
        "import numpy as np\n",
        "from astroquery.mast import Catalogs\n",
        "from astroquery.mast import Tesscut\n",
        "from astropy.coordinates import SkyCoord\n",
        "from astropy.wcs import WCS\n",
        "from astropy.io import fits\n",
        "import matplotlib.pyplot as plt\n",
        "\n",
        "%matplotlib inline\n"
      ],
      "execution_count": 15,
      "outputs": [
        {
          "output_type": "stream",
          "text": [
            "Requirement already satisfied: astroquery in /usr/local/lib/python3.6/dist-packages (0.4)\n",
            "Requirement already satisfied: html5lib>=0.999 in /usr/local/lib/python3.6/dist-packages (from astroquery) (1.0.1)\n",
            "Requirement already satisfied: beautifulsoup4>=4.3.2 in /usr/local/lib/python3.6/dist-packages (from astroquery) (4.6.3)\n",
            "Requirement already satisfied: astropy>=2.0 in /usr/local/lib/python3.6/dist-packages (from astroquery) (4.0)\n",
            "Requirement already satisfied: requests>=2.4.3 in /usr/local/lib/python3.6/dist-packages (from astroquery) (2.21.0)\n",
            "Requirement already satisfied: keyring>=4.0 in /usr/local/lib/python3.6/dist-packages (from astroquery) (21.1.0)\n",
            "Requirement already satisfied: six in /usr/local/lib/python3.6/dist-packages (from astroquery) (1.12.0)\n",
            "Requirement already satisfied: webencodings in /usr/local/lib/python3.6/dist-packages (from html5lib>=0.999->astroquery) (0.5.1)\n",
            "Requirement already satisfied: numpy>=1.16 in /usr/local/lib/python3.6/dist-packages (from astropy>=2.0->astroquery) (1.17.5)\n",
            "Requirement already satisfied: urllib3<1.25,>=1.21.1 in /usr/local/lib/python3.6/dist-packages (from requests>=2.4.3->astroquery) (1.24.3)\n",
            "Requirement already satisfied: idna<2.9,>=2.5 in /usr/local/lib/python3.6/dist-packages (from requests>=2.4.3->astroquery) (2.8)\n",
            "Requirement already satisfied: certifi>=2017.4.17 in /usr/local/lib/python3.6/dist-packages (from requests>=2.4.3->astroquery) (2019.11.28)\n",
            "Requirement already satisfied: chardet<3.1.0,>=3.0.2 in /usr/local/lib/python3.6/dist-packages (from requests>=2.4.3->astroquery) (3.0.4)\n",
            "Requirement already satisfied: importlib-metadata; python_version < \"3.8\" in /usr/local/lib/python3.6/dist-packages (from keyring>=4.0->astroquery) (1.5.0)\n",
            "Requirement already satisfied: SecretStorage>=3; sys_platform == \"linux\" in /usr/local/lib/python3.6/dist-packages (from keyring>=4.0->astroquery) (3.1.2)\n",
            "Requirement already satisfied: jeepney>=0.4.2; sys_platform == \"linux\" in /usr/local/lib/python3.6/dist-packages (from keyring>=4.0->astroquery) (0.4.2)\n",
            "Requirement already satisfied: zipp>=0.5 in /usr/local/lib/python3.6/dist-packages (from importlib-metadata; python_version < \"3.8\"->keyring>=4.0->astroquery) (2.2.0)\n",
            "Requirement already satisfied: cryptography in /usr/local/lib/python3.6/dist-packages (from SecretStorage>=3; sys_platform == \"linux\"->keyring>=4.0->astroquery) (2.8)\n",
            "Requirement already satisfied: cffi!=1.11.3,>=1.8 in /usr/local/lib/python3.6/dist-packages (from cryptography->SecretStorage>=3; sys_platform == \"linux\"->keyring>=4.0->astroquery) (1.14.0)\n",
            "Requirement already satisfied: pycparser in /usr/local/lib/python3.6/dist-packages (from cffi!=1.11.3,>=1.8->cryptography->SecretStorage>=3; sys_platform == \"linux\"->keyring>=4.0->astroquery) (2.19)\n"
          ],
          "name": "stdout"
        }
      ]
    },
    {
      "cell_type": "markdown",
      "metadata": {
        "id": "kUyCBG3ifDPB",
        "colab_type": "text"
      },
      "source": [
        "***"
      ]
    },
    {
      "cell_type": "markdown",
      "metadata": {
        "id": "eG9IZcXXfDPH",
        "colab_type": "text"
      },
      "source": [
        "<a id=\"catalog_ID\"></a>\n",
        "## Get Coordinates of the Target Using Astroquery Catalogs\n",
        "\n",
        "Here we do a cone search using `Catalogs.query_object` on the TIC catalog around TIC ID = 261105201. The advantage of doing this (instead of a directly criteria query on the Tess Input Catalog) is that it gives us the nearby stars as well as the star we are looking for. The resulting table is sorted by distance from the requested object. We print out the ID and a few other TIC quantities to ensure we found the star we were looking for. "
      ]
    },
    {
      "cell_type": "code",
      "metadata": {
        "id": "lZf3EFZLfDPK",
        "colab_type": "code",
        "colab": {
          "base_uri": "https://localhost:8080/",
          "height": 144
        },
        "outputId": "39150a91-542e-488e-91d0-a7559dff1188"
      },
      "source": [
        "ticid = 175310067\n",
        "\n",
        "starName = \"TIC \" + str(ticid)\n",
        "radSearch = 4/60 #radius in degrees\n",
        "\n",
        "catalogData = Catalogs.query_object(starName, radius = radSearch, catalog = \"TIC\")\n",
        "ra = catalogData[0]['ra']\n",
        "dec = catalogData[0]['dec']\n",
        "\n",
        "# Print out the first row in the table\n",
        "print( catalogData[:5]['ID', 'Tmag', 'Jmag', 'ra', 'dec', 'objType'] )"
      ],
      "execution_count": 16,
      "outputs": [
        {
          "output_type": "stream",
          "text": [
            "    ID      Tmag   Jmag         ra               dec        objType\n",
            "--------- ------- ------ ---------------- ----------------- -------\n",
            "175310067 10.6257 10.179  116.11082020711 -36.0983353226298    STAR\n",
            "175310062 18.4461 13.506 116.110002410932 -36.0999884648553    STAR\n",
            "772960734 19.0407    nan  116.11252355282 -36.1006055195587    STAR\n",
            "175310068 18.1194 16.116 116.107393839419 -36.0978765885723    STAR\n",
            "772960733 19.1788    nan 116.113234160729 -36.1015425390029    STAR\n"
          ],
          "name": "stdout"
        }
      ]
    },
    {
      "cell_type": "code",
      "metadata": {
        "id": "grS-p_QcfDPR",
        "colab_type": "code",
        "colab": {
          "base_uri": "https://localhost:8080/",
          "height": 35
        },
        "outputId": "0fa3c2e7-f32f-4a75-932b-69de8f27fa00"
      },
      "source": [
        "# Create a list of nearby bright stars (tess magnitude less than 14) from the rest of the data for later.\n",
        "bright = catalogData['Tmag'] < 15\n",
        "\n",
        "# Make it a list of Ra, Dec pairs of the bright ones. This is now a list of nearby bright stars.\n",
        "nearbyStars = list( map( lambda x,y:[x,y], catalogData[bright]['ra'], catalogData[bright]['dec'] ) )\n",
        "len(nearbyStars)"
      ],
      "execution_count": 17,
      "outputs": [
        {
          "output_type": "execute_result",
          "data": {
            "text/plain": [
              "40"
            ]
          },
          "metadata": {
            "tags": []
          },
          "execution_count": 17
        }
      ]
    },
    {
      "cell_type": "markdown",
      "metadata": {
        "id": "sdNTG2RFfDPZ",
        "colab_type": "text"
      },
      "source": [
        "***"
      ]
    },
    {
      "cell_type": "markdown",
      "metadata": {
        "id": "aUvpabTxfDPc",
        "colab_type": "text"
      },
      "source": [
        "## Query Which Sectors are Available\n",
        "<a id=\"catalog_ID\"></a>\n",
        "Using the TESS sector information service, we make a request to determine which sectors/cameras/CCDs contain data for this target. Remember that there is a set of FFIs for each TESS sector and those are broken up into 4 cameras which each have 4 CCDs.  We will do this with a radius=0 cone search to find only those FFI sets that contain the star of interest. You can also make the query using a larger radius, which may be important if the star is near the edge of one of the CCDs."
      ]
    },
    {
      "cell_type": "code",
      "metadata": {
        "id": "gM84sfxpfDPf",
        "colab_type": "code",
        "colab": {
          "base_uri": "https://localhost:8080/",
          "height": 90
        },
        "outputId": "b549d566-1f58-493c-ee7d-c1a33712ece5"
      },
      "source": [
        "coord = SkyCoord(ra, dec, unit = \"deg\")\n",
        "\n",
        "sectorTable = Tesscut.get_sectors(coord)\n",
        "print(sectorTable)"
      ],
      "execution_count": 18,
      "outputs": [
        {
          "output_type": "stream",
          "text": [
            "  sectorName   sector camera ccd\n",
            "-------------- ------ ------ ---\n",
            "tess-s0007-3-1      7      3   1\n",
            "tess-s0008-3-2      8      3   2\n"
          ],
          "name": "stdout"
        }
      ]
    },
    {
      "cell_type": "markdown",
      "metadata": {
        "id": "G_bVxFyUfDPo",
        "colab_type": "text"
      },
      "source": [
        "The resulting table shows that this target was observed in two different sectors using the same camera and CCD."
      ]
    },
    {
      "cell_type": "markdown",
      "metadata": {
        "id": "aS3TBY7xfDPq",
        "colab_type": "text"
      },
      "source": [
        "***"
      ]
    },
    {
      "cell_type": "markdown",
      "metadata": {
        "id": "65beQhW7fDPt",
        "colab_type": "text"
      },
      "source": [
        "<a id=\"tesscut_ID\"></a>\n",
        "## Request pixel timeseries cutout from TESS FFIs\n",
        "Astrocut is the tool that runs the cutout service around the RA and Dec that were requested. It delivers a zipped file containing a cutout for each set of FFIs as listed above. It is also possible to request only one sector using the \"sector\" parameter.  \n",
        "<br>\n",
        "For tesscut, ***x*** refers to the CCD columns and ***y*** refers to the CCD rows. Distance can be input in a variety of units, I chose pixels (\"px\")."
      ]
    },
    {
      "cell_type": "code",
      "metadata": {
        "id": "YxQdV3ivfDPv",
        "colab_type": "code",
        "colab": {}
      },
      "source": [
        "hdulist = Tesscut.get_cutouts(coord, 20)"
      ],
      "execution_count": 0,
      "outputs": []
    },
    {
      "cell_type": "markdown",
      "metadata": {
        "id": "sJpd4VbgfDP5",
        "colab_type": "text"
      },
      "source": [
        "Notice that this returns a **list** of HDUlist objects, one for each of our files.  HDUlist objects are the same thing you get back as if you downloaded the file and then run the following on the file: \n",
        "`hdu =  astropy.io.fits.open(FITS_file_name)`"
      ]
    },
    {
      "cell_type": "code",
      "metadata": {
        "id": "IIhMATgqfDP6",
        "colab_type": "code",
        "colab": {
          "base_uri": "https://localhost:8080/",
          "height": 126
        },
        "outputId": "fb06276a-6b46-4c81-8168-1bbcd018aab9"
      },
      "source": [
        "hdulist[0].info()\n",
        "hdulist[0][0].header['SECTOR']"
      ],
      "execution_count": 20,
      "outputs": [
        {
          "output_type": "stream",
          "text": [
            "Filename: <class '_io.BytesIO'>\n",
            "No.    Name      Ver    Type      Cards   Dimensions   Format\n",
            "  0  PRIMARY       1 PrimaryHDU      56   ()      \n",
            "  1  PIXELS        1 BinTableHDU    280   1093R x 12C   [D, E, J, 400J, 400E, 400E, 400E, 400E, J, E, E, 38A]   \n",
            "  2  APERTURE      1 ImageHDU        80   (20, 20)   int32   \n"
          ],
          "name": "stdout"
        },
        {
          "output_type": "execute_result",
          "data": {
            "text/plain": [
              "7"
            ]
          },
          "metadata": {
            "tags": []
          },
          "execution_count": 20
        }
      ]
    },
    {
      "cell_type": "code",
      "metadata": {
        "id": "Pm7DwKiLfDQA",
        "colab_type": "code",
        "colab": {
          "base_uri": "https://localhost:8080/",
          "height": 108
        },
        "outputId": "3d1bd36b-c15e-40aa-c6d9-08083dfdeae0"
      },
      "source": [
        "hdulist[1].info()"
      ],
      "execution_count": 21,
      "outputs": [
        {
          "output_type": "stream",
          "text": [
            "Filename: <class '_io.BytesIO'>\n",
            "No.    Name      Ver    Type      Cards   Dimensions   Format\n",
            "  0  PRIMARY       1 PrimaryHDU      56   ()      \n",
            "  1  PIXELS        1 BinTableHDU    280   968R x 12C   [D, E, J, 400J, 400E, 400E, 400E, 400E, J, E, E, 38A]   \n",
            "  2  APERTURE      1 ImageHDU        80   (20, 20)   int32   \n"
          ],
          "name": "stdout"
        }
      ]
    },
    {
      "cell_type": "markdown",
      "metadata": {
        "id": "CDzf1oQdfDQI",
        "colab_type": "text"
      },
      "source": [
        "[Top of Page](#title_ID)"
      ]
    },
    {
      "cell_type": "markdown",
      "metadata": {
        "id": "MRqkN8FlfDQK",
        "colab_type": "text"
      },
      "source": [
        "***"
      ]
    },
    {
      "cell_type": "markdown",
      "metadata": {
        "id": "MhbvtylefDQM",
        "colab_type": "text"
      },
      "source": [
        "<a id=\"plot_image\"></a>\n",
        "## Plot the First Image of the Time Series\n",
        "Here we show you some of the information found in the cutout. The format is identical to a TESS target pixel file. You should read through the target pixel file tutorial if you are not familiar with that file type.  \n",
        "\n",
        "The pixel-level data is stored in the first PIXELS extension, including an array of the calibrated pixels for each time stamp. See the column called 'FLUX'. \n"
      ]
    },
    {
      "cell_type": "code",
      "metadata": {
        "id": "uQJ4zfezfDQQ",
        "colab_type": "code",
        "colab": {}
      },
      "source": [
        "# Define a function to simplify the plotting command that we do repeatedly.\n",
        "def plot_cutout(image):\n",
        "    \"\"\"\n",
        "    Plot image and add grid lines.\n",
        "    \"\"\"\n",
        "    plt.imshow(image, origin = 'lower', cmap = plt.cm.YlGnBu_r, \n",
        "           vmax = np.percentile(image, 92),\n",
        "           vmin = np.percentile(image, 5))\n",
        "\n",
        "    plt.grid(axis = 'both',color = 'white', ls = 'solid')"
      ],
      "execution_count": 0,
      "outputs": []
    },
    {
      "cell_type": "code",
      "metadata": {
        "id": "Dvez7ZJofDQX",
        "colab_type": "code",
        "colab": {
          "base_uri": "https://localhost:8080/",
          "height": 464
        },
        "outputId": "ad487f4d-ec48-40d7-d7c0-5dcece0bd0b7"
      },
      "source": [
        "hdu1 = hdulist[0]\n",
        "firstImage = hdu1[1].data['FLUX'][0]\n",
        "\n",
        "fig = plt.figure(figsize=(7, 7))\n",
        "plot_cutout(firstImage)\n",
        "plt.xlabel('Image Column',fontsize = 14)\n",
        "plt.ylabel('Image Row',fontsize = 14)\n"
      ],
      "execution_count": 23,
      "outputs": [
        {
          "output_type": "execute_result",
          "data": {
            "text/plain": [
              "Text(0, 0.5, 'Image Row')"
            ]
          },
          "metadata": {
            "tags": []
          },
          "execution_count": 23
        },
        {
          "output_type": "display_data",
          "data": {
            "image/png": "[encoded data removed]",
            "text/plain": [
              "<Figure size 504x504 with 1 Axes>"
            ]
          },
          "metadata": {
            "tags": []
          }
        }
      ]
    },
    {
      "cell_type": "markdown",
      "metadata": {
        "id": "Ryos4Ck7fDQc",
        "colab_type": "text"
      },
      "source": [
        "### Show the first image of the second file \n",
        "We also add a WCS to the image and mark the requested star as well as nearby stars.\n",
        "We use the WCS in the header to place a red dot on the image for the catalog position of the star on the figure as a demonstration of the WCS. The orange dots are the nearby stars found in the cone search done above. \n",
        "\n",
        "**Note. The WCS is based on the WCS stored in the FFI file for the central part of the time series and there can be some motion during a sector of observation.**"
      ]
    },
    {
      "cell_type": "code",
      "metadata": {
        "id": "3LIadJnlfDQe",
        "colab_type": "code",
        "colab": {
          "base_uri": "https://localhost:8080/",
          "height": 496
        },
        "outputId": "ca63eea3-a421-4e69-c745-f390728aebcc"
      },
      "source": [
        "hdu2 = hdulist[1]\n",
        "\n",
        "firstImage = hdu2[1].data['FLUX'][0]\n",
        "\n",
        "wcs = WCS(hdu2[2].header)\n",
        "\n",
        "fig = plt.figure(figsize = (8, 8))\n",
        "fig.add_subplot(111, projection = wcs)\n",
        "plot_cutout(firstImage)\n",
        "\n",
        "plt.xlabel('RA', fontsize = 12)\n",
        "plt.ylabel('Dec', fontsize = 12)\n",
        "\n",
        "\n",
        "starloc = wcs.all_world2pix([[ra,dec]],0)  #Second is origin\n",
        "plt.scatter(starloc[0,0], starloc[0,1],s = 45,color = 'red')\n",
        "\n",
        "# Plot nearby stars as well, which we created using our Catalog call above.\n",
        "nearbyLoc = wcs.all_world2pix(nearbyStars[1:],0)\n",
        "plt.scatter(nearbyLoc[1:, 0], nearbyLoc[1:, 1], \n",
        "            s = 25, color = 'orange')"
      ],
      "execution_count": 24,
      "outputs": [
        {
          "output_type": "execute_result",
          "data": {
            "text/plain": [
              "<matplotlib.collections.PathCollection at 0x7f73012d72e8>"
            ]
          },
          "metadata": {
            "tags": []
          },
          "execution_count": 24
        },
        {
          "output_type": "display_data",
          "data": {
            "image/png": "[encoded data removed]",
            "text/plain": [
              "<Figure size 576x576 with 1 Axes>"
            ]
          },
          "metadata": {
            "tags": []
          }
        }
      ]
    },
    {
      "cell_type": "markdown",
      "metadata": {
        "id": "nRttPUIMfDQl",
        "colab_type": "text"
      },
      "source": [
        "<a id=\"lightcurve\"></a>\n",
        "## Create a Light Curve from the Cutout\n",
        "\n",
        "We create two functions.  One to appply a photometric aperture to one image and the other to then apply that to all the images in the FLUX array."
      ]
    },
    {
      "cell_type": "code",
      "metadata": {
        "id": "rfaXu07RfDQn",
        "colab_type": "code",
        "colab": {}
      },
      "source": [
        "def aperture_phot(image, aperture):\n",
        "    \"\"\"\n",
        "    Sum-up the pixels that are in the aperture for one image.\n",
        "    image and aperture are 2D arrays that need to be the same size.\n",
        "    \n",
        "    aperture is a boolean array where True means to include the light of those pixels.\n",
        "    \"\"\"\n",
        "    flux = np.sum(image[aperture])\n",
        "\n",
        "    return flux\n",
        "\n",
        "def make_lc(flux_data, aperture):\n",
        "    \"\"\"\n",
        "    Apply the 2d aperture array to the and time series of 2D images. \n",
        "    Return the photometric series by summing over the pixels that are in the aperture.\n",
        "    \n",
        "    Aperture is a boolean array where True means it is in the desired aperture.\n",
        "    \"\"\"\n",
        "    \n",
        "    flux = np.array(list (map (lambda x: aperture_phot(x, aperture), flux_data) ) )\n",
        "\n",
        "    return flux\n"
      ],
      "execution_count": 0,
      "outputs": []
    },
    {
      "cell_type": "markdown",
      "metadata": {
        "id": "2DAdL30zfDQt",
        "colab_type": "text"
      },
      "source": [
        "### Create a photometric time series using all the pixels in the image.\n",
        "The third extension indicates which pixels have data in your image. To use all the returned pixels, we set our 2D aperture array to be True for all those with a value of 1 in that image. "
      ]
    },
    {
      "cell_type": "code",
      "metadata": {
        "id": "VTx1jbXGfDQv",
        "colab_type": "code",
        "colab": {
          "base_uri": "https://localhost:8080/",
          "height": 368
        },
        "outputId": "79f83fd4-d2c4-49da-fb07-9f848e4e03ef"
      },
      "source": [
        "# Use all pixels in our aperture.\n",
        "aperture = hdu1[2].data == 1\n",
        "\n",
        "flux1 = make_lc(hdu1[1].data['FLUX'], aperture)\n",
        "time1 = hdu1[1].data['TIME']\n",
        "\n",
        "plt.figure(figsize = (11,5))\n",
        "plt.plot(time1, flux1, 'k.-', lw = .5)\n",
        "plt.xlim(1325,1342)\n",
        "plt.xlabel('TIME (BTJD)')\n",
        "plt.ylabel('Flux (e-/s)')\n",
        "plt.title('Flux in Photometric Aperture')"
      ],
      "execution_count": 26,
      "outputs": [
        {
          "output_type": "execute_result",
          "data": {
            "text/plain": [
              "Text(0.5, 1.0, 'Flux in Photometric Aperture')"
            ]
          },
          "metadata": {
            "tags": []
          },
          "execution_count": 26
        },
        {
          "output_type": "display_data",
          "data": {
            "image/png": "[encoded data removed]",
            "text/plain": [
              "<Figure size 792x360 with 1 Axes>"
            ]
          },
          "metadata": {
            "tags": []
          }
        }
      ]
    },
    {
      "cell_type": "markdown",
      "metadata": {
        "id": "-6r9hinwfDQz",
        "colab_type": "text"
      },
      "source": [
        "### Estimate the background\n",
        "No background subtraction has been performed on these images.  We estimate the background by using numpy's percentile function and selecting those pixels from the first image below the 5th percentile as a way of estimating the background."
      ]
    },
    {
      "cell_type": "code",
      "metadata": {
        "id": "mzcsQt_7fDQ1",
        "colab_type": "code",
        "colab": {
          "base_uri": "https://localhost:8080/",
          "height": 368
        },
        "outputId": "ab68ea22-d3bc-486d-ee6f-f1259cd62d90"
      },
      "source": [
        "# Plot the flux change of the dimmest pixels by using percentile.\n",
        "bkgAperture = hdu1[1].data['FLUX'][0] < np.percentile(hdu1[1].data['FLUX'][0], 5)\n",
        "\n",
        "bkgFlux1 = make_lc(hdu1[1].data['FLUX'], bkgAperture)\n",
        "time1 = hdu1[1].data['TIME']\n",
        "\n",
        "plt.figure(figsize = (11, 5))\n",
        "plt.plot(time1, bkgFlux1, 'r.-', lw = .5)\n",
        "\n",
        "plt.xlim(1325, 1342)\n",
        "plt.xlabel('TIME (BTJD)')\n",
        "plt.ylabel('Estimate of Background')\n",
        "plt.title('Background Flux')"
      ],
      "execution_count": 27,
      "outputs": [
        {
          "output_type": "execute_result",
          "data": {
            "text/plain": [
              "Text(0.5, 1.0, 'Background Flux')"
            ]
          },
          "metadata": {
            "tags": []
          },
          "execution_count": 27
        },
        {
          "output_type": "display_data",
          "data": {
            "image/png": "[encoded data removed]",
            "text/plain": [
              "<Figure size 792x360 with 1 Axes>"
            ]
          },
          "metadata": {
            "tags": []
          }
        }
      ]
    },
    {
      "cell_type": "markdown",
      "metadata": {
        "id": "NUpSdV3mfDQ7",
        "colab_type": "text"
      },
      "source": [
        "### Subtract the background from the flux time series\n",
        "Subtract this background after accounting for the number of pixels used to estimate the flux of the background relative to the entire image.  The final plot shows that the background subtraction removed much of unexpected variation.  This is likely an eclipsing binary system.  "
      ]
    },
    {
      "cell_type": "code",
      "metadata": {
        "id": "VcKiPwz_fDQ9",
        "colab_type": "code",
        "colab": {
          "base_uri": "https://localhost:8080/",
          "height": 368
        },
        "outputId": "79d7cdb9-9bf5-4357-bcd1-79063994d5b8"
      },
      "source": [
        "bkgSubFlux = flux1 - (bkgFlux1 * np.sum(aperture) / np.sum(bkgAperture) )\n",
        "\n",
        "plt.figure(figsize = (11,5))\n",
        "plt.plot(time1, bkgSubFlux,'.-k', lw = 0.5)\n",
        "\n",
        "plt.xlim(1325, 1336)\n",
        "plt.xlabel('TIME (BTJD)')\n",
        "plt.ylabel('Flux (e-/s)')\n",
        "plt.title('Background Subtracted Flux')"
      ],
      "execution_count": 28,
      "outputs": [
        {
          "output_type": "execute_result",
          "data": {
            "text/plain": [
              "Text(0.5, 1.0, 'Background Subtracted Flux')"
            ]
          },
          "metadata": {
            "tags": []
          },
          "execution_count": 28
        },
        {
          "output_type": "display_data",
          "data": {
            "image/png": "[encoded data removed]",
            "text/plain": [
              "<Figure size 792x360 with 1 Axes>"
            ]
          },
          "metadata": {
            "tags": []
          }
        }
      ]
    },
    {
      "cell_type": "markdown",
      "metadata": {
        "id": "s0bHJVINfDRB",
        "colab_type": "text"
      },
      "source": [
        "<a id=\"resources_ID\"></a>\n",
        "## Additional Resources\n",
        "[TESScut API Documentation](https://mast.stsci.edu/tesscut/)<br>\n",
        "[Astrocut Documentation](https://astrocut.readthedocs.io/en/latest/)<br>\n",
        "[TESS Homepage](https://archive.stsci.edu/tess)<br>\n",
        "[TESS Archive Manual](https://outerspace.stsci.edu/display/TESS/TESS+Archive+Manual)\n"
      ]
    },
    {
      "cell_type": "markdown",
      "metadata": {
        "id": "Os6PAiM4fDRC",
        "colab_type": "text"
      },
      "source": [
        "***"
      ]
    },
    {
      "cell_type": "markdown",
      "metadata": {
        "id": "qxfp9tVMfDRG",
        "colab_type": "text"
      },
      "source": [
        "<a id=\"about_ID\"></a>\n",
        "## About this Notebook\n",
        "**Author:** Susan E. Mullally, STScI Archive Scientist\n",
        "<br>**Updated On:** 2018-12-03"
      ]
    },
    {
      "cell_type": "markdown",
      "metadata": {
        "id": "tCIOjgLkfDRI",
        "colab_type": "text"
      },
      "source": [
        "[Top of Page](#title_ID)\n",
        "<img style=\"float: right;\" src=\"https://raw.githubusercontent.com/spacetelescope/notebooks/master/assets/stsci_pri_combo_mark_horizonal_white_bkgd.png\" alt=\"STScI logo\" width=\"200px\"/> "
      ]
    }
  ]
}