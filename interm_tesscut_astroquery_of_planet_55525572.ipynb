{
  "nbformat": 4,
  "nbformat_minor": 0,
  "metadata": {
    "kernelspec": {
      "display_name": "Python 3",
      "language": "python",
      "name": "python3"
    },
    "language_info": {
      "codemirror_mode": {
        "name": "ipython",
        "version": 3
      },
      "file_extension": ".py",
      "mimetype": "text/x-python",
      "name": "python",
      "nbconvert_exporter": "python",
      "pygments_lexer": "ipython3",
      "version": "3.6.1"
    },
    "colab": {
      "name": "interm_tesscut_astroquery_of planet_55525572.ipynb",
      "provenance": [],
      "include_colab_link": true
    }
  },
  "cells": [
    {
      "cell_type": "markdown",
      "metadata": {
        "id": "view-in-github",
        "colab_type": "text"
      },
      "source": [
        "<a href=\"https://colab.research.google.com/github/MerlijnvEmmerik/Mijnrel/blob/master/interm_tesscut_astroquery_of_planet_55525572.ipynb\" target=\"_parent\"><img src=\"https://colab.research.google.com/assets/colab-badge.svg\" alt=\"Open In Colab\"/></a>"
      ]
    },
    {
      "cell_type": "markdown",
      "metadata": {
        "id": "3teRsjBi5QNR",
        "colab_type": "text"
      },
      "source": [
        "<a id=\"title_ID\"></a>\n",
        "# Beginner: Cutout of the TESS FFIs using Astrocut and Astroquery\n",
        "\n",
        "This notebook shows the user how to use the MAST programmatic interface to create a cutout of the small section of the TESS FFIs. For this example we will determine the RA and Dec for TIC 261105201. We then perform a query to determine which sectors contain this RA and Dec, peform a cutout of the FFI time series, open the resulting target pixel files, and plot the first image of each file with the WCS overlayed on the image. Finally we will create a light curve from the resulting image by creating a photometric aperture and summing the light in our pixels.  \n",
        "\n",
        "This tutorial shows the users how to do the following: use `astroquery.catalogs` to query the TIC, use astroquery Tesscut to determine the number of sectors that contain our target and download a FFI cutout.\n",
        "\n",
        "\n",
        "### Table of Contents \n",
        "  [Astroquery Search of the TIC](#catalog_ID) <br> \n",
        "  [Tesscut to Perform FFI Cutout](#tesscut_ID) <br>\n",
        "  [Create Light Curve](#lightcurve) <br>\n",
        "  [Additional Resources](#resources_ID) <br> \n",
        "  [About this Notebook](#about_ID) "
      ]
    },
    {
      "cell_type": "markdown",
      "metadata": {
        "id": "gSWlnd5h5QNW",
        "colab_type": "text"
      },
      "source": [
        "***"
      ]
    },
    {
      "cell_type": "markdown",
      "metadata": {
        "id": "7gk0LAIU5QNe",
        "colab_type": "text"
      },
      "source": [
        "## Import Statements\n",
        "<a id=\"imports_ID\"></a>\n",
        "\n",
        "We start with a few import statements.\n",
        "- *numpy* to handle array functions\n",
        "- *astropy.io fits* for accessing FITS files\n",
        "- *astropy.wcs WCS* to interpret the World Coordinate Systems\n",
        "- *matplotlib.pyplot* for plotting the data\n",
        "- *astroquery.mast* for the catalogs and for tesscut.\n"
      ]
    },
    {
      "cell_type": "code",
      "metadata": {
        "id": "tOaEkqLg5QNi",
        "colab_type": "code",
        "outputId": "b2a6c523-a363-4d9c-cb3c-736bf6241188",
        "colab": {
          "base_uri": "https://localhost:8080/",
          "height": 582
        }
      },
      "source": [
        "!pip install astroquery\n",
        "import numpy as np\n",
        "from astroquery.mast import Catalogs\n",
        "from astroquery.mast import Tesscut\n",
        "from astropy.coordinates import SkyCoord\n",
        "from astropy.wcs import WCS\n",
        "from astropy.io import fits\n",
        "import matplotlib.pyplot as plt\n",
        "\n",
        "%matplotlib inline\n"
      ],
      "execution_count": 0,
      "outputs": [
        {
          "output_type": "stream",
          "text": [
            "Collecting astroquery\n",
            "\u001b[?25l  Downloading https://files.pythonhosted.org/packages/e2/af/a3cd3b30745832a0e81f5f13327234099aaf5d03b7979ac947a888e68e91/astroquery-0.4.tar.gz (4.5MB)\n",
            "\u001b[K     |████████████████████████████████| 4.5MB 3.0MB/s \n",
            "\u001b[?25hRequirement already satisfied: astropy>=2.0 in /usr/local/lib/python3.6/dist-packages (from astroquery) (4.0)\n",
            "Requirement already satisfied: requests>=2.4.3 in /usr/local/lib/python3.6/dist-packages (from astroquery) (2.21.0)\n",
            "Collecting keyring>=4.0\n",
            "  Downloading https://files.pythonhosted.org/packages/28/40/2bed013b87d6d2bf4104db67bab7c8c5b5f88ff68b383dc967b6019ee9e5/keyring-21.1.0-py2.py3-none-any.whl\n",
            "Requirement already satisfied: beautifulsoup4>=4.3.2 in /usr/local/lib/python3.6/dist-packages (from astroquery) (4.6.3)\n",
            "Requirement already satisfied: html5lib>=0.999 in /usr/local/lib/python3.6/dist-packages (from astroquery) (1.0.1)\n",
            "Requirement already satisfied: six in /usr/local/lib/python3.6/dist-packages (from astroquery) (1.12.0)\n",
            "Requirement already satisfied: numpy>=1.16 in /usr/local/lib/python3.6/dist-packages (from astropy>=2.0->astroquery) (1.17.5)\n",
            "Requirement already satisfied: idna<2.9,>=2.5 in /usr/local/lib/python3.6/dist-packages (from requests>=2.4.3->astroquery) (2.8)\n",
            "Requirement already satisfied: chardet<3.1.0,>=3.0.2 in /usr/local/lib/python3.6/dist-packages (from requests>=2.4.3->astroquery) (3.0.4)\n",
            "Requirement already satisfied: certifi>=2017.4.17 in /usr/local/lib/python3.6/dist-packages (from requests>=2.4.3->astroquery) (2019.11.28)\n",
            "Requirement already satisfied: urllib3<1.25,>=1.21.1 in /usr/local/lib/python3.6/dist-packages (from requests>=2.4.3->astroquery) (1.24.3)\n",
            "Requirement already satisfied: importlib-metadata; python_version < \"3.8\" in /usr/local/lib/python3.6/dist-packages (from keyring>=4.0->astroquery) (1.5.0)\n",
            "Collecting SecretStorage>=3; sys_platform == \"linux\"\n",
            "  Downloading https://files.pythonhosted.org/packages/c3/50/8a02cad020e949e6d7105f5f4530d41e3febcaa5b73f8f2148aacb3aeba5/SecretStorage-3.1.2-py3-none-any.whl\n",
            "Collecting jeepney>=0.4.2; sys_platform == \"linux\"\n",
            "  Downloading https://files.pythonhosted.org/packages/ae/35/7e580cfed452e3b8c3cca44290adc54b8b5a5b8e37f89da5d24b09318be8/jeepney-0.4.2-py3-none-any.whl\n",
            "Requirement already satisfied: webencodings in /usr/local/lib/python3.6/dist-packages (from html5lib>=0.999->astroquery) (0.5.1)\n",
            "Requirement already satisfied: zipp>=0.5 in /usr/local/lib/python3.6/dist-packages (from importlib-metadata; python_version < \"3.8\"->keyring>=4.0->astroquery) (2.2.0)\n",
            "Collecting cryptography\n",
            "\u001b[?25l  Downloading https://files.pythonhosted.org/packages/ca/9a/7cece52c46546e214e10811b36b2da52ce1ea7fa203203a629b8dfadad53/cryptography-2.8-cp34-abi3-manylinux2010_x86_64.whl (2.3MB)\n",
            "\u001b[K     |████████████████████████████████| 2.3MB 32.6MB/s \n",
            "\u001b[?25hRequirement already satisfied: cffi!=1.11.3,>=1.8 in /usr/local/lib/python3.6/dist-packages (from cryptography->SecretStorage>=3; sys_platform == \"linux\"->keyring>=4.0->astroquery) (1.14.0)\n",
            "Requirement already satisfied: pycparser in /usr/local/lib/python3.6/dist-packages (from cffi!=1.11.3,>=1.8->cryptography->SecretStorage>=3; sys_platform == \"linux\"->keyring>=4.0->astroquery) (2.19)\n",
            "Building wheels for collected packages: astroquery\n"
          ],
          "name": "stdout"
        }
      ]
    },
    {
      "cell_type": "markdown",
      "metadata": {
        "id": "53YBUWAG5QNx",
        "colab_type": "text"
      },
      "source": [
        "***"
      ]
    },
    {
      "cell_type": "markdown",
      "metadata": {
        "id": "b9_c5MS75QN1",
        "colab_type": "text"
      },
      "source": [
        "<a id=\"catalog_ID\"></a>\n",
        "## Get Coordinates of the Target Using Astroquery Catalogs\n",
        "\n",
        "Here we do a cone search using `Catalogs.query_object` on the TIC catalog around TIC ID = 261105201. The advantage of doing this (instead of a directly criteria query on the Tess Input Catalog) is that it gives us the nearby stars as well as the star we are looking for. The resulting table is sorted by distance from the requested object. We print out the ID and a few other TIC quantities to ensure we found the star we were looking for. "
      ]
    },
    {
      "cell_type": "code",
      "metadata": {
        "id": "XKPqM3-05QN5",
        "colab_type": "code",
        "colab": {}
      },
      "source": [
        "ticid = 55525572\n",
        "\n",
        "starName = \"TIC \" + str(ticid)\n",
        "radSearch = 4/60 #radius in degrees\n",
        "\n",
        "catalogData = Catalogs.query_object(starName, radius = radSearch, catalog = \"TIC\")\n",
        "ra = catalogData[0]['ra']\n",
        "dec = catalogData[0]['dec']\n",
        "\n",
        "# Print out the first row in the table\n",
        "print( catalogData[:5]['ID', 'Tmag', 'Jmag', 'ra', 'dec', 'objType'] )"
      ],
      "execution_count": 0,
      "outputs": []
    },
    {
      "cell_type": "code",
      "metadata": {
        "id": "6Gy_d8eA5QOD",
        "colab_type": "code",
        "colab": {}
      },
      "source": [
        "# Create a list of nearby bright stars (tess magnitude less than 14) from the rest of the data for later.\n",
        "bright = catalogData['Tmag'] < 15\n",
        "\n",
        "# Make it a list of Ra, Dec pairs of the bright ones. This is now a list of nearby bright stars.\n",
        "nearbyStars = list( map( lambda x,y:[x,y], catalogData[bright]['ra'], catalogData[bright]['dec'] ) )\n",
        "len(nearbyStars)"
      ],
      "execution_count": 0,
      "outputs": []
    },
    {
      "cell_type": "markdown",
      "metadata": {
        "id": "F_rp7Bqt5QOT",
        "colab_type": "text"
      },
      "source": [
        "***"
      ]
    },
    {
      "cell_type": "markdown",
      "metadata": {
        "id": "NXi7U3Hf5QOW",
        "colab_type": "text"
      },
      "source": [
        "## Query Which Sectors are Available\n",
        "<a id=\"catalog_ID\"></a>\n",
        "Using the TESS sector information service, we make a request to determine which sectors/cameras/CCDs contain data for this target. Remember that there is a set of FFIs for each TESS sector and those are broken up into 4 cameras which each have 4 CCDs.  We will do this with a radius=0 cone search to find only those FFI sets that contain the star of interest. You can also make the query using a larger radius, which may be important if the star is near the edge of one of the CCDs."
      ]
    },
    {
      "cell_type": "code",
      "metadata": {
        "id": "nK_vP7zH5QOb",
        "colab_type": "code",
        "colab": {}
      },
      "source": [
        "coord = SkyCoord(ra, dec, unit = \"deg\")\n",
        "\n",
        "sectorTable = Tesscut.get_sectors(coord)\n",
        "print(sectorTable)"
      ],
      "execution_count": 0,
      "outputs": []
    },
    {
      "cell_type": "markdown",
      "metadata": {
        "id": "glHY50tZ5QOi",
        "colab_type": "text"
      },
      "source": [
        "The resulting table shows that this target was observed in two different sectors using the same camera and CCD."
      ]
    },
    {
      "cell_type": "markdown",
      "metadata": {
        "id": "P67krqqO5QOk",
        "colab_type": "text"
      },
      "source": [
        "***"
      ]
    },
    {
      "cell_type": "markdown",
      "metadata": {
        "id": "d9B3ZRD_5QOm",
        "colab_type": "text"
      },
      "source": [
        "<a id=\"tesscut_ID\"></a>\n",
        "## Request pixel timeseries cutout from TESS FFIs\n",
        "Astrocut is the tool that runs the cutout service around the RA and Dec that were requested. It delivers a zipped file containing a cutout for each set of FFIs as listed above. It is also possible to request only one sector using the \"sector\" parameter.  \n",
        "<br>\n",
        "For tesscut, ***x*** refers to the CCD columns and ***y*** refers to the CCD rows. Distance can be input in a variety of units, I chose pixels (\"px\")."
      ]
    },
    {
      "cell_type": "code",
      "metadata": {
        "id": "pIgqngIQ5QOo",
        "colab_type": "code",
        "colab": {}
      },
      "source": [
        "hdulist = Tesscut.get_cutouts(coord, 20)"
      ],
      "execution_count": 0,
      "outputs": []
    },
    {
      "cell_type": "markdown",
      "metadata": {
        "id": "DtHuwt7u5QOx",
        "colab_type": "text"
      },
      "source": [
        "Notice that this returns a **list** of HDUlist objects, one for each of our files.  HDUlist objects are the same thing you get back as if you downloaded the file and then run the following on the file: \n",
        "`hdu =  astropy.io.fits.open(FITS_file_name)`"
      ]
    },
    {
      "cell_type": "code",
      "metadata": {
        "id": "rG2dQaLV5QOz",
        "colab_type": "code",
        "colab": {}
      },
      "source": [
        "hdulist[0].info()\n",
        "hdulist[0][0].header['SECTOR']"
      ],
      "execution_count": 0,
      "outputs": []
    },
    {
      "cell_type": "code",
      "metadata": {
        "id": "w2Co_Ku35QO4",
        "colab_type": "code",
        "colab": {}
      },
      "source": [
        "hdulist[1].info()"
      ],
      "execution_count": 0,
      "outputs": []
    },
    {
      "cell_type": "markdown",
      "metadata": {
        "id": "EkB-jrBw5QPD",
        "colab_type": "text"
      },
      "source": [
        "[Top of Page](#title_ID)"
      ]
    },
    {
      "cell_type": "markdown",
      "metadata": {
        "id": "vJIK_9-J5QPF",
        "colab_type": "text"
      },
      "source": [
        "***"
      ]
    },
    {
      "cell_type": "markdown",
      "metadata": {
        "id": "ZdYrZ80h5QPH",
        "colab_type": "text"
      },
      "source": [
        "<a id=\"plot_image\"></a>\n",
        "## Plot the First Image of the Time Series\n",
        "Here we show you some of the information found in the cutout. The format is identical to a TESS target pixel file. You should read through the target pixel file tutorial if you are not familiar with that file type.  \n",
        "\n",
        "The pixel-level data is stored in the first PIXELS extension, including an array of the calibrated pixels for each time stamp. See the column called 'FLUX'. \n"
      ]
    },
    {
      "cell_type": "code",
      "metadata": {
        "id": "nAzFLhLu5QPL",
        "colab_type": "code",
        "colab": {}
      },
      "source": [
        "# Define a function to simplify the plotting command that we do repeatedly.\n",
        "def plot_cutout(image):\n",
        "    \"\"\"\n",
        "    Plot image and add grid lines.\n",
        "    \"\"\"\n",
        "    plt.imshow(image, origin = 'lower', cmap = plt.cm.YlGnBu_r, \n",
        "           vmax = np.percentile(image, 92),\n",
        "           vmin = np.percentile(image, 5))\n",
        "\n",
        "    plt.grid(axis = 'both',color = 'white', ls = 'solid')"
      ],
      "execution_count": 0,
      "outputs": []
    },
    {
      "cell_type": "code",
      "metadata": {
        "id": "KJuEl_tM5QPT",
        "colab_type": "code",
        "colab": {}
      },
      "source": [
        "hdu1 = hdulist[0]\n",
        "firstImage = hdu1[1].data['FLUX'][0]\n",
        "\n",
        "fig = plt.figure(figsize=(7, 7))\n",
        "plot_cutout(firstImage)\n",
        "plt.xlabel('Image Column',fontsize = 14)\n",
        "plt.ylabel('Image Row',fontsize = 14)\n"
      ],
      "execution_count": 0,
      "outputs": []
    },
    {
      "cell_type": "markdown",
      "metadata": {
        "id": "eI8zaJ6a5QPY",
        "colab_type": "text"
      },
      "source": [
        "### Show the first image of the second file \n",
        "We also add a WCS to the image and mark the requested star as well as nearby stars.\n",
        "We use the WCS in the header to place a red dot on the image for the catalog position of the star on the figure as a demonstration of the WCS. The orange dots are the nearby stars found in the cone search done above. \n",
        "\n",
        "**Note. The WCS is based on the WCS stored in the FFI file for the central part of the time series and there can be some motion during a sector of observation.**"
      ]
    },
    {
      "cell_type": "code",
      "metadata": {
        "id": "ydl4S5Xh5QPa",
        "colab_type": "code",
        "colab": {}
      },
      "source": [
        "hdu2 = hdulist[1]\n",
        "\n",
        "firstImage = hdu2[1].data['FLUX'][0]\n",
        "\n",
        "wcs = WCS(hdu2[2].header)\n",
        "\n",
        "fig = plt.figure(figsize = (8, 8))\n",
        "fig.add_subplot(111, projection = wcs)\n",
        "plot_cutout(firstImage)\n",
        "\n",
        "plt.xlabel('RA', fontsize = 12)\n",
        "plt.ylabel('Dec', fontsize = 12)\n",
        "\n",
        "\n",
        "starloc = wcs.all_world2pix([[ra,dec]],0)  #Second is origin\n",
        "plt.scatter(starloc[0,0], starloc[0,1],s = 45,color = 'red')\n",
        "\n",
        "# Plot nearby stars as well, which we created using our Catalog call above.\n",
        "nearbyLoc = wcs.all_world2pix(nearbyStars[1:],0)\n",
        "plt.scatter(nearbyLoc[1:, 0], nearbyLoc[1:, 1], \n",
        "            s = 25, color = 'orange')"
      ],
      "execution_count": 0,
      "outputs": []
    },
    {
      "cell_type": "markdown",
      "metadata": {
        "id": "KOeUC3oz5QPh",
        "colab_type": "text"
      },
      "source": [
        "<a id=\"lightcurve\"></a>\n",
        "## Create a Light Curve from the Cutout\n",
        "\n",
        "We create two functions.  One to appply a photometric aperture to one image and the other to then apply that to all the images in the FLUX array."
      ]
    },
    {
      "cell_type": "code",
      "metadata": {
        "id": "7EWJnjmp5QPj",
        "colab_type": "code",
        "colab": {}
      },
      "source": [
        "def aperture_phot(image, aperture):\n",
        "    \"\"\"\n",
        "    Sum-up the pixels that are in the aperture for one image.\n",
        "    image and aperture are 2D arrays that need to be the same size.\n",
        "    \n",
        "    aperture is a boolean array where True means to include the light of those pixels.\n",
        "    \"\"\"\n",
        "    flux = np.sum(image[aperture])\n",
        "\n",
        "    return flux\n",
        "\n",
        "def make_lc(flux_data, aperture):\n",
        "    \"\"\"\n",
        "    Apply the 2d aperture array to the and time series of 2D images. \n",
        "    Return the photometric series by summing over the pixels that are in the aperture.\n",
        "    \n",
        "    Aperture is a boolean array where True means it is in the desired aperture.\n",
        "    \"\"\"\n",
        "    \n",
        "    flux = np.array(list (map (lambda x: aperture_phot(x, aperture), flux_data) ) )\n",
        "\n",
        "    return flux\n"
      ],
      "execution_count": 0,
      "outputs": []
    },
    {
      "cell_type": "markdown",
      "metadata": {
        "id": "mFVByCIJ5QPp",
        "colab_type": "text"
      },
      "source": [
        "### Create a photometric time series using all the pixels in the image.\n",
        "The third extension indicates which pixels have data in your image. To use all the returned pixels, we set our 2D aperture array to be True for all those with a value of 1 in that image. "
      ]
    },
    {
      "cell_type": "code",
      "metadata": {
        "id": "di4foEfP5QPs",
        "colab_type": "code",
        "colab": {}
      },
      "source": [
        "# Use all pixels in our aperture.\n",
        "aperture = hdu1[2].data == 1\n",
        "\n",
        "flux1 = make_lc(hdu1[1].data['FLUX'], aperture)\n",
        "time1 = hdu1[1].data['TIME']\n",
        "\n",
        "plt.figure(figsize = (11,5))\n",
        "plt.plot(time1, flux1, 'k.-', lw = .5)\n",
        "plt.xlim(1325,1342)\n",
        "plt.xlabel('TIME (BTJD)')\n",
        "plt.ylabel('Flux (e-/s)')\n",
        "plt.title('Flux in Photometric Aperture')"
      ],
      "execution_count": 0,
      "outputs": []
    },
    {
      "cell_type": "markdown",
      "metadata": {
        "id": "EBQbjJzh5QPy",
        "colab_type": "text"
      },
      "source": [
        "### Estimate the background\n",
        "No background subtraction has been performed on these images.  We estimate the background by using numpy's percentile function and selecting those pixels from the first image below the 5th percentile as a way of estimating the background."
      ]
    },
    {
      "cell_type": "code",
      "metadata": {
        "id": "htn9uJzL5QPz",
        "colab_type": "code",
        "colab": {}
      },
      "source": [
        "# Plot the flux change of the dimmest pixels by using percentile.\n",
        "bkgAperture = hdu1[1].data['FLUX'][0] < np.percentile(hdu1[1].data['FLUX'][0], 5)\n",
        "\n",
        "bkgFlux1 = make_lc(hdu1[1].data['FLUX'], bkgAperture)\n",
        "time1 = hdu1[1].data['TIME']\n",
        "\n",
        "plt.figure(figsize = (11, 5))\n",
        "plt.plot(time1, bkgFlux1, 'r.-', lw = .5)\n",
        "\n",
        "plt.xlim(1325, 1342)\n",
        "plt.xlabel('TIME (BTJD)')\n",
        "plt.ylabel('Estimate of Background')\n",
        "plt.title('Background Flux')"
      ],
      "execution_count": 0,
      "outputs": []
    },
    {
      "cell_type": "markdown",
      "metadata": {
        "id": "FndlcF9o5QP4",
        "colab_type": "text"
      },
      "source": [
        "### Subtract the background from the flux time series\n",
        "Subtract this background after accounting for the number of pixels used to estimate the flux of the background relative to the entire image.  The final plot shows that the background subtraction removed much of unexpected variation.  This is likely an eclipsing binary system.  "
      ]
    },
    {
      "cell_type": "code",
      "metadata": {
        "id": "P0fDLtXR5QP4",
        "colab_type": "code",
        "colab": {}
      },
      "source": [
        "bkgSubFlux = flux1 - (bkgFlux1 * np.sum(aperture) / np.sum(bkgAperture) )\n",
        "\n",
        "plt.figure(figsize = (11,5))\n",
        "plt.plot(time1, bkgSubFlux,'.-k', lw = 0.5)\n",
        "\n",
        "plt.xlim(1325, 1336)\n",
        "plt.xlabel('TIME (BTJD)')\n",
        "plt.ylabel('Flux (e-/s)')\n",
        "plt.title('Background Subtracted Flux')"
      ],
      "execution_count": 0,
      "outputs": []
    },
    {
      "cell_type": "markdown",
      "metadata": {
        "id": "fSBVuO6d5QP-",
        "colab_type": "text"
      },
      "source": [
        "<a id=\"resources_ID\"></a>\n",
        "## Additional Resources\n",
        "[TESScut API Documentation](https://mast.stsci.edu/tesscut/)<br>\n",
        "[Astrocut Documentation](https://astrocut.readthedocs.io/en/latest/)<br>\n",
        "[TESS Homepage](https://archive.stsci.edu/tess)<br>\n",
        "[TESS Archive Manual](https://outerspace.stsci.edu/display/TESS/TESS+Archive+Manual)\n"
      ]
    },
    {
      "cell_type": "markdown",
      "metadata": {
        "id": "tQ5_t7kM5QP_",
        "colab_type": "text"
      },
      "source": [
        "***"
      ]
    },
    {
      "cell_type": "markdown",
      "metadata": {
        "id": "z_MvHNmc5QQD",
        "colab_type": "text"
      },
      "source": [
        "<a id=\"about_ID\"></a>\n",
        "## About this Notebook\n",
        "**Author:** Susan E. Mullally, STScI Archive Scientist\n",
        "<br>**Updated On:** 2018-12-03"
      ]
    },
    {
      "cell_type": "markdown",
      "metadata": {
        "id": "O6Q-Xe9I5QQH",
        "colab_type": "text"
      },
      "source": [
        "[Top of Page](#title_ID)\n",
        "<img style=\"float: right;\" src=\"https://raw.githubusercontent.com/spacetelescope/notebooks/master/assets/stsci_pri_combo_mark_horizonal_white_bkgd.png\" alt=\"STScI logo\" width=\"200px\"/> "
      ]
    }
  ]
}